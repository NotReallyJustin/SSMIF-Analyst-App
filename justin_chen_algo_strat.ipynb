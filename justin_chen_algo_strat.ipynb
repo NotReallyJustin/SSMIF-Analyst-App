{
 "cells": [
  {
   "cell_type": "markdown",
   "metadata": {},
   "source": [
    "# Algorithmic Trading Strategy Challenge"
   ]
  },
  {
   "cell_type": "markdown",
   "metadata": {},
   "source": [
    "Name: _____________"
   ]
  },
  {
   "cell_type": "markdown",
   "metadata": {},
   "source": [
    "In this challenge, your task is to design an algorithmic trading strategy using the stocks in the provided portfolio.\n",
    "    \n",
    "You may use yfinance to source data for the stocks within the period defined in the dummy_data.xlsx file.\n",
    "\n",
    "You are not allowed to use a simple \"buy and hold\" strategy. Be creative and implement a more complex strategy that will maximize profit and minimize risk.\n",
    "\n",
    "Your solution can be based on machine learning, technical analysis, or any other approach you find suitable.\n",
    "\n",
    "Be creative and demonstrate your coding ability in this challenge.\n",
    "\n",
    "In addition to implementing your strategy during this time period, you will also need to graph the profit/loss and liquidity ratio of the strategy over time.\n",
    "\n",
    "Feel free to add code blocks and markdown blocks as needed, however, ensure specified logic is contained within their respective headers in the notebook.\n"
   ]
  },
  {
   "cell_type": "markdown",
   "metadata": {},
   "source": [
    "## Strategy Implementation"
   ]
  },
  {
   "cell_type": "code",
   "execution_count": null,
   "metadata": {},
   "outputs": [],
   "source": []
  },
  {
   "cell_type": "markdown",
   "metadata": {},
   "source": [
    "## Plot P/L"
   ]
  },
  {
   "cell_type": "markdown",
   "metadata": {},
   "source": []
  },
  {
   "cell_type": "markdown",
   "metadata": {},
   "source": [
    "## Plot Liquidity"
   ]
  },
  {
   "cell_type": "markdown",
   "metadata": {},
   "source": []
  }
 ],
 "metadata": {
  "language_info": {
   "name": "python"
  },
  "orig_nbformat": 4
 },
 "nbformat": 4,
 "nbformat_minor": 2
}
